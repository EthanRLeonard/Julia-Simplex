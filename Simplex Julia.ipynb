{
 "cells": [
  {
   "cell_type": "markdown",
   "id": "225ab296",
   "metadata": {},
   "source": [
    "Standard Linear Programming Table:"
   ]
  },
  {
   "cell_type": "code",
   "execution_count": 2,
   "id": "cd881eac",
   "metadata": {},
   "outputs": [
    {
     "name": "stderr",
     "output_type": "stream",
     "text": [
      "\u001b[32m\u001b[1m   Resolving\u001b[22m\u001b[39m package versions...\n",
      "\u001b[32m\u001b[1m  No Changes\u001b[22m\u001b[39m to `C:\\Users\\ethan\\.julia\\environments\\v1.6\\Project.toml`\n",
      "\u001b[32m\u001b[1m  No Changes\u001b[22m\u001b[39m to `C:\\Users\\ethan\\.julia\\environments\\v1.6\\Manifest.toml`\n"
     ]
    },
    {
     "data": {
      "text/plain": [
       "Table with 5 columns and 2 rows:\n",
       "     Equations        Z  Original_Variables  Slack_Variables  RHS\n",
       "   ┌─────────────────────────────────────────────────────────────\n",
       " 1 │ Z                1  -c                  0                0\n",
       " 2 │ Basic Variables  0  A                   I                b"
      ]
     },
     "execution_count": 2,
     "metadata": {},
     "output_type": "execute_result"
    }
   ],
   "source": [
    "Pkg.add(\"TypedTables\")\n",
    "using TypedTables\n",
    "using SymPy\n",
    "@syms c,b,A,yOpt,S,c_B,Binv,I\n",
    "LP=Table(Equations=[\"Z\",\"Basic Variables\"],Z=[1,0],Original_Variables=[-c,A],Slack_Variables=[0,I],RHS=[0,b])"
   ]
  },
  {
   "cell_type": "code",
   "execution_count": 23,
   "id": "7c0b23be",
   "metadata": {},
   "outputs": [
    {
     "data": {
      "text/plain": [
       "(Zopt, y, Y)"
      ]
     },
     "execution_count": 23,
     "metadata": {},
     "output_type": "execute_result"
    }
   ],
   "source": [
    "@syms Zopt,y,Y"
   ]
  },
  {
   "cell_type": "markdown",
   "id": "9f5c7e75",
   "metadata": {},
   "source": [
    "Equations: $\\newline$\n",
    "    $S^*=B^{-1} \\newline y^*=c_{B}B^{-1} \\newline Z^*=y^*b \\newline A^*=S^*A$"
   ]
  },
  {
   "cell_type": "code",
   "execution_count": 24,
   "id": "3e74f771",
   "metadata": {},
   "outputs": [
    {
     "data": {
      "text/plain": [
       "Table with 5 columns and 2 rows:\n",
       "     Equations  Z  vars     slacks  RHS\n",
       "   ┌───────────────────────────────────\n",
       " 1 │ Z          1  A*y - c  y       Y*b\n",
       " 2 │ Basics     0  A*S      S       S*b"
      ]
     },
     "execution_count": 24,
     "metadata": {},
     "output_type": "execute_result"
    }
   ],
   "source": [
    "Insight=Table(Equations=[\"Z\",\"Basics\"],Z=[1,0],vars=[(y*A)-c,S*A],slacks=[y,S],RHS=[Y*b,S*b])"
   ]
  },
  {
   "cell_type": "code",
   "execution_count": 1,
   "id": "81795f05",
   "metadata": {},
   "outputs": [
    {
     "data": {
      "text/plain": [
       "revisedTableau (generic function with 1 method)"
      ]
     },
     "execution_count": 1,
     "metadata": {},
     "output_type": "execute_result"
    }
   ],
   "source": [
    "Astar(y,S,A,b,c)=S*A;\n",
    "vars(y,S,A,b,c)=y*A-c;\n",
    "zstar(y,S,A,b,c)=y*b;\n",
    "bstar(y,S,A,b,c)=S*b;\n",
    "using TypedTables\n",
    "function revisedTableau(y,S,A,b,c) \n",
    "    mat=[vars(y,S,A,b,c) y zstar(y,S,A,b,c); Astar(y,S,A,b,c) S bstar(y,S,A,b,c)];\n",
    "    numconstraints=length(b);\n",
    "    numvars=length([vars(y,S,A,b,c) y]);\n",
    "    nms=Array{Any}(undef,numconstraints+1)\n",
    "    nms[1]=\"z\";\n",
    "    p=1;\n",
    "    for q=1:numvars\n",
    "        t=findall(!iszero,mat[:,q]);\n",
    "        if size(t)==(1,)\n",
    "            nms[p+1]=hcat(\"x\",string(q))\n",
    "            p+=1;\n",
    "        end\n",
    "    end\n",
    "    println(nms)\n",
    "    println(numvars)\n",
    "  #Q=Table(nms1=nms;mat1=mat)\n",
    "    #return Q\n",
    "    return mat\n",
    "end    "
   ]
  },
  {
   "cell_type": "code",
   "execution_count": 3,
   "id": "5e91fd5e",
   "metadata": {
    "scrolled": true
   },
   "outputs": [
    {
     "name": "stdout",
     "output_type": "stream",
     "text": [
      "Any[\"z\", [\"x\" \"1\"], [\"x\" \"2\"], [\"x\" \"6\"]]\n",
      "6\n",
      "  0.025525 seconds (438 allocations: 15.344 KiB)\n"
     ]
    },
    {
     "data": {
      "text/plain": [
       "4×7 Matrix{Int64}:\n",
       " 0  0  2  1  1  0  18\n",
       " 0  1  5  1  3  0  24\n",
       " 0  0  2  0  1  1   7\n",
       " 1  0  4  1  2  0  21"
      ]
     },
     "execution_count": 3,
     "metadata": {},
     "output_type": "execute_result"
    }
   ],
   "source": [
    "A=[3 -2 2 ; -1 1 1;  1 -1 1];\n",
    "b= [15 ; 3; 4];\n",
    "c= [ 2 -1 1];\n",
    "S=[1 3 0 ; 0 1 1 ; 1 2 0];\n",
    "y=[1 1 0];\n",
    "\n",
    "@time revisedTableau(y,S,A,b,c)\n",
    "\n",
    "#vars(y,S,A,b,c)"
   ]
  },
  {
   "cell_type": "code",
   "execution_count": 5,
   "id": "3ad5dc46",
   "metadata": {},
   "outputs": [
    {
     "data": {
      "text/plain": [
       "1×3 Matrix{Int64}:\n",
       " 0  0  2"
      ]
     },
     "execution_count": 5,
     "metadata": {},
     "output_type": "execute_result"
    }
   ],
   "source": [
    "vars(y,S,A,b,c)"
   ]
  }
 ],
 "metadata": {
  "kernelspec": {
   "display_name": "Julia 1.6.3",
   "language": "julia",
   "name": "julia-1.6"
  },
  "language_info": {
   "file_extension": ".jl",
   "mimetype": "application/julia",
   "name": "julia",
   "version": "1.6.3"
  }
 },
 "nbformat": 4,
 "nbformat_minor": 5
}
